{
 "cells": [
  {
   "cell_type": "markdown",
   "source": [
    "# CDSM - Casual Inference using Deep Bayesian Dynamic Survival Models\n",
    "\n",
    "\n",
    "This tutorial demonstrates the basic function of the causal dynamic survival model (CDSM)."
   ],
   "metadata": {
    "collapsed": false
   }
  },
  {
   "cell_type": "code",
   "execution_count": 3,
   "outputs": [],
   "source": [
    "import matplotlib.pyplot as plt\n",
    "import seaborn as sns\n",
    "import numpy as np\n",
    "from tqdm import tqdm\n",
    "\n",
    "from utilss.data_simulator import get_data\n",
    "from utilss.model import create_model, get_counterfactuals\n",
    "from lifelines import KaplanMeierFitter\n"
   ],
   "metadata": {
    "collapsed": false,
    "pycharm": {
     "name": "#%%Import relevant package\n"
    }
   }
  },
  {
   "cell_type": "markdown",
   "source": [
    "## Data simulation\n",
    "\n",
    "To explore the finite-sample performance of CDSM, we ran several experiments with biologically plausible longitudinal\n",
    "data following a previous study. Here, we demonstrate one experiment with the following settings:\n",
    "<br>\n",
    "- $5 \\text{ continuous covariates }X(0)_1,X(0)_2,\\dots,X(0)_D\\sim\\mathrm{N}(0,0.5)$\n",
    "- $5 \\text{ time invariant binary covariates }X_{D+1},X_{D+2},\\dots,X_{2D}\\sim\\mathrm{Binom}(0.5)$\n",
    "- A binary exposure generated at time 0 with the indicator function $A=I(\\sum_{i=1}^DX(0)_i\\geq\\frac{\\eta}{D}\\sum_{i=1}^DX(0)_i )$,\n",
    "where $\\eta$ controls the balance of treated and control observations in the sample, with $100(1.5-\\eta)\\%$ of the sample receiving the treatment; and\n",
    "- Individual survival curves generated using the hazard function $h_i(t) = \\frac{\\log(t)}{\\lambda}\\big(\\beta_0 A_i+\\beta_1\\sum_{i=1}^5 X(t)_i+\\beta_2\\sum_{i=6}^{10} X(t)_i\\big)$\n",
    "- The event/censor time are generated using the root finding technique according to our original work.\n"
   ],
   "metadata": {
    "collapsed": false
   }
  },
  {
   "cell_type": "code",
   "execution_count": 4,
   "outputs": [
    {
     "name": "stdout",
     "output_type": "stream",
     "text": [
      "simulating...\n",
      "simulation completed\n"
     ]
    },
    {
     "name": "stderr",
     "output_type": "stream",
     "text": [
      "<ipython-input-4-234bc1ba491a>:5: DeprecationWarning: This function is deprecated. Please call randint(1, 1000 + 1) instead\n",
      "  seed= np.random.random_integers(1,1000))\n",
      "100%|██████████| 1200/1200 [00:00<00:00, 1208.77it/s]\n",
      "100%|██████████| 1200/1200 [00:00<00:00, 1231.56it/s]\n"
     ]
    }
   ],
   "source": [
    "print(\"simulating...\" )\n",
    "max_time = 30\n",
    "data, pred_data,val_data, surv_func_wrapper, train_full, val_full, test_full, one_X = \\\n",
    "get_data(input_dim= 10 , sampleSize= 1200, max_time=max_time,prediction_itvl = 1, history_itvl=14, overlap=1,\n",
    "         seed= np.random.random_integers(1,1000))\n",
    "print(\"simulation completed\" )"
   ],
   "metadata": {
    "collapsed": false,
    "pycharm": {
     "name": "#%%\n"
    }
   }
  },
  {
   "cell_type": "code",
   "execution_count": 5,
   "outputs": [
    {
     "name": "stdout",
     "output_type": "stream",
     "text": [
      "training covariate shape (sample size * history * covariate dimension + 1 (for treatment condition)): (1005, 14, 11)\n",
      "validation covariate shape: (127, 14, 11)\n",
      "prediction covariate shape: (1255, 14, 11)\n"
     ]
    }
   ],
   "source": [
    "rnn_x, rnn_m, rnn_s, rnn_y, Time = data #estimation data set\n",
    "rnn_x_pred, rnn_m_pred, rnn_s_pred, rnn_y_pred, Time_pred = pred_data\n",
    "rnn_x_val, rnn_m_val, rnn_s_val, rnn_y_val, Time_val = val_data\n",
    "\n",
    "print(\"training covariate shape (sample size * history * covariate dimension + 1 (for treatment condition)):\", rnn_x.shape)\n",
    "print(\"validation covariate shape:\", rnn_x_val.shape)\n",
    "print(\"prediction covariate shape:\", rnn_x_pred.shape)\n"
   ],
   "metadata": {
    "collapsed": false,
    "pycharm": {
     "name": "#%%\n"
    }
   }
  },
  {
   "cell_type": "code",
   "execution_count": 6,
   "outputs": [],
   "source": [
    "trueSurv, trueSurv_1, trueSurv_0 = surv_func_wrapper\n",
    "cf_true = np.cumprod(trueSurv_1, 1) - np.cumprod(trueSurv_0, 1)"
   ],
   "metadata": {
    "collapsed": false,
    "pycharm": {
     "name": "#%%\n"
    }
   }
  },
  {
   "cell_type": "markdown",
   "source": [
    "## Model training"
   ],
   "metadata": {
    "collapsed": false
   }
  },
  {
   "cell_type": "code",
   "execution_count": 7,
   "outputs": [
    {
     "name": "stdout",
     "output_type": "stream",
     "text": [
      "fit propensity\n",
      "fit main model\n",
      "traning completed!\n"
     ]
    },
    {
     "name": "stderr",
     "output_type": "stream",
     "text": [
      "/Users/jiezhu/.virtualenvs/globalenv/lib/python3.8/site-packages/tensorflow/python/keras/engine/base_layer.py:2281: UserWarning: `layer.add_variable` is deprecated and will be removed in a future version. Please use `layer.add_weight` method instead.\n",
      "  warnings.warn('`layer.add_variable` is deprecated and '\n",
      "100%|██████████| 10/10 [00:04<00:00,  2.04it/s]\n"
     ]
    }
   ],
   "source": [
    "# Train the model\n",
    "#max_time: max follow-up time\n",
    "#history_itvl: max history window\n",
    "#data: estimation data set\n",
    "#val_data: validation data set\n",
    "#lstm_window: number of lstm units\n",
    "#alpha: weight for partial likelihood loss\n",
    "#beta: weight for rank/concordance loss\n",
    "#gamma: weight for selection bias loss\n",
    "#verbose: 0: disbale system message; 1: enable system message\n",
    "#layers: depth of dense layers in of potential outcome sub-network\n",
    "modelCDSM,model_p, history_dict = create_model(rnn_x.shape[2], max_time, 14, data, val_data, lstm_window= 7,\n",
    "                                            alpha= 1, beta= 1, gamma=0, load=False, verbose=0, model_name='CDSM',\n",
    "                                            batch_size=int(rnn_x.shape[0] / 2), layers=int(rnn_x.shape[2] / 2))\n",
    "\n",
    "modelCDSM_result = get_counterfactuals(modelCDSM, pred_data, t=0, draw=10)\n",
    "print('traning completed!')\n"
   ],
   "metadata": {
    "collapsed": false,
    "pycharm": {
     "name": "#%%\n"
    }
   }
  },
  {
   "cell_type": "markdown",
   "source": [
    "The average of simulated individual survival curves (red solid line); the light red band is the upper and lower\n",
    "25% quantile of the true survival probability at each time point; the light blue band is the upper and lower 25% quantile\n",
    "of estimated survival probability at each time point."
   ],
   "metadata": {
    "collapsed": false
   }
  },
  {
   "cell_type": "code",
   "execution_count": 10,
   "outputs": [],
   "source": [
    "y_pred_t, y_pred_std, y_pred1_t, y_pred0_t, cf_std_1, _, \\\n",
    "y_pred_t_test, y_pred_std_test, y_pred1_t_test, y_pred0_t_test, cf_std_1_test, _ = modelCDSM_result\n",
    "s_durv = np.cumprod(y_pred_t, 1)\n",
    "cf_durv = np.cumprod(y_pred1_t, 1) - np.cumprod(y_pred0_t, 1)\n",
    "hr_durv = np.clip(y_pred0_t, 0.001, 1) / np.clip(y_pred1_t, 0.001, 1)\n"
   ],
   "metadata": {
    "collapsed": false,
    "pycharm": {
     "name": "#%%\n"
    }
   }
  },
  {
   "cell_type": "code",
   "execution_count": 13,
   "outputs": [
    {
     "name": "stdout",
     "output_type": "stream",
     "text": [
      "estimated difference in survival curves\n"
     ]
    },
    {
     "data": {
      "text/plain": "<Figure size 504x504 with 1 Axes>",
      "image/png": "[encoded data removed]"
     },
     "metadata": {},
     "output_type": "display_data"
    }
   ],
   "source": [
    "print('estimated difference in survival curves')\n",
    "\n",
    "sns.set(style=\"whitegrid\", font_scale=1)\n",
    "fig, ax = plt.subplots(figsize=(7, 7))\n",
    "ax.plot(range(max_time), -np.mean(cf_true, 0), color=\"#f0aeb4\", label=\"True\")\n",
    "ax.plot(range(max_time), np.mean(cf_durv, 0), color='#8DBFC5', alpha=0.9, label=\"CDSM\")\n",
    "ax.fill_between(range(max_time), np.quantile(cf_durv, q = 0.25, axis = 0), np.quantile(cf_durv, q = 0.75, axis = 0),\n",
    "               facecolor='#8DBFC5', alpha=0.4)\n",
    "ax.fill_between(range(max_time), np.quantile(cf_durv, q = 0.05, axis = 0), np.quantile(cf_durv, q = 0.95, axis = 0),\n",
    "               facecolor='#8DBFC5', alpha=0.2)\n",
    "#ax.set_xticklabels(np.arange(-8,max_time*3,8))\n",
    "#ax.set_xlabel(\"Months\", fontsize=11, fontweight='bold')\n",
    "ax.set_ylabel(\"Difference in Survival Probability\", fontsize=11, fontweight='bold')\n",
    "plt.legend()\n",
    "plt.show()\n",
    "\n",
    "\n"
   ],
   "metadata": {
    "collapsed": false,
    "pycharm": {
     "name": "#%%\n"
    }
   }
  }
 ],
 "metadata": {
  "kernelspec": {
   "display_name": "Python 3",
   "language": "python",
   "name": "python3"
  },
  "language_info": {
   "codemirror_mode": {
    "name": "ipython",
    "version": 2
   },
   "file_extension": ".py",
   "mimetype": "text/x-python",
   "name": "python",
   "nbconvert_exporter": "python",
   "pygments_lexer": "ipython2",
   "version": "2.7.6"
  }
 },
 "nbformat": 4,
 "nbformat_minor": 0
}